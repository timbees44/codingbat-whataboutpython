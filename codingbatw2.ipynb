{
 "cells": [
  {
   "cell_type": "markdown",
   "metadata": {},
   "source": [
    "## CodingBat Warmup-2: All Java Problems in Python"
   ]
  },
  {
   "cell_type": "code",
   "execution_count": 5,
   "metadata": {},
   "outputs": [],
   "source": [
    "#stringTimes\n",
    "def stringTimes(string, n):\n",
    "    return string * n"
   ]
  },
  {
   "cell_type": "code",
   "execution_count": 7,
   "metadata": {},
   "outputs": [
    {
     "name": "stdout",
     "output_type": "stream",
     "text": [
      "hihi\n",
      "hihihihi\n"
     ]
    }
   ],
   "source": [
    "#Test code here\n",
    "print(stringTimes(\"hi\", 2))\n",
    "print(stringTimes(\"hi\", 4))"
   ]
  },
  {
   "cell_type": "code",
   "execution_count": 8,
   "metadata": {},
   "outputs": [],
   "source": [
    "#frontTimes\n",
    "def frontTimes(string, n):\n",
    "    return string[:3] * n"
   ]
  },
  {
   "cell_type": "code",
   "execution_count": 9,
   "metadata": {},
   "outputs": [
    {
     "name": "stdout",
     "output_type": "stream",
     "text": [
      "ChoCho\n",
      "ChoChoCho\n"
     ]
    }
   ],
   "source": [
    "print(frontTimes(\"Chocolate\", 2))\n",
    "print(frontTimes(\"Chocolate\", 3))"
   ]
  },
  {
   "cell_type": "code",
   "execution_count": 305,
   "metadata": {},
   "outputs": [],
   "source": [
    "#countXX\n",
    "def countXX(string):\n",
    "    count = 0\n",
    "    for i in string:\n",
    "        if i == \"x\":\n",
    "            count += 1\n",
    "            pass\n",
    "    return count - 1"
   ]
  },
  {
   "cell_type": "code",
   "execution_count": 306,
   "metadata": {},
   "outputs": [
    {
     "name": "stdout",
     "output_type": "stream",
     "text": [
      "1\n",
      "2\n",
      "3\n"
     ]
    }
   ],
   "source": [
    "print(countXX(\"abcxx\"))\n",
    "print(countXX(\"xxx\"))\n",
    "print(countXX(\"xxxx\"))"
   ]
  },
  {
   "cell_type": "code",
   "execution_count": 102,
   "metadata": {},
   "outputs": [],
   "source": [
    "#doubleX\n",
    "def doubleX(string):\n",
    "    for ind, i in enumerate(string[:-1]):\n",
    "        if i == string[ind+1]:\n",
    "            return True"
   ]
  },
  {
   "cell_type": "code",
   "execution_count": 103,
   "metadata": {},
   "outputs": [
    {
     "name": "stdout",
     "output_type": "stream",
     "text": [
      "True\n",
      "None\n"
     ]
    }
   ],
   "source": [
    "print(doubleX(\"axxbb\"))\n",
    "print(doubleX(\"axaxaxa\"))"
   ]
  },
  {
   "cell_type": "code",
   "execution_count": 310,
   "metadata": {},
   "outputs": [],
   "source": [
    "#stringBits\n",
    "def stringBits(string):\n",
    "    bit = \"\"\n",
    "    for i in range(len(string)):\n",
    "        if i % 2 == 0:\n",
    "            bit = bit + string[i]\n",
    "    return bit"
   ]
  },
  {
   "cell_type": "code",
   "execution_count": 311,
   "metadata": {},
   "outputs": [
    {
     "name": "stdout",
     "output_type": "stream",
     "text": [
      "Hlo\n",
      "H\n",
      "Hello\n"
     ]
    }
   ],
   "source": [
    "print(stringBits(\"Hello\"))\n",
    "print(stringBits(\"Hi\"))\n",
    "print(stringBits(\"Heeololeo\"))"
   ]
  },
  {
   "cell_type": "code",
   "execution_count": 23,
   "metadata": {},
   "outputs": [],
   "source": [
    "#stringSplosion\n",
    "def stringSplosion(string):\n",
    "    result = \"\"\n",
    "    for i in string:\n",
    "        result += string[:string.index(i) + 1]\n",
    "    return result"
   ]
  },
  {
   "cell_type": "code",
   "execution_count": 24,
   "metadata": {},
   "outputs": [
    {
     "name": "stdout",
     "output_type": "stream",
     "text": [
      "CCoCodCode\n",
      "aababc\n",
      "aab\n"
     ]
    }
   ],
   "source": [
    "print(stringSplosion(\"Code\"))\n",
    "print(stringSplosion(\"abc\"))\n",
    "print(stringSplosion(\"ab\"))"
   ]
  },
  {
   "cell_type": "code",
   "execution_count": 21,
   "metadata": {},
   "outputs": [],
   "source": [
    "#consulted python example\n",
    "#last2\n",
    "def last2(string):\n",
    "    count = 0\n",
    "    l2 = str(string[-2:])\n",
    "    for i in range(len(string)-2):\n",
    "        sub = string[i:i+2]\n",
    "        if sub == l2:\n",
    "            count += 1\n",
    "    return count"
   ]
  },
  {
   "cell_type": "code",
   "execution_count": 22,
   "metadata": {},
   "outputs": [
    {
     "name": "stdout",
     "output_type": "stream",
     "text": [
      "1\n",
      "1\n",
      "2\n"
     ]
    }
   ],
   "source": [
    "print(last2(\"hixxhi\"))\n",
    "print(last2(\"xaxxaxaxx\"))\n",
    "print(last2(\"axxxaaxx\"))"
   ]
  },
  {
   "cell_type": "code",
   "execution_count": 19,
   "metadata": {},
   "outputs": [],
   "source": [
    "#arrayCount9\n",
    "def arrayCount9(n):\n",
    "    return n.count(9)"
   ]
  },
  {
   "cell_type": "code",
   "execution_count": 20,
   "metadata": {},
   "outputs": [
    {
     "name": "stdout",
     "output_type": "stream",
     "text": [
      "1\n",
      "2\n",
      "3\n"
     ]
    }
   ],
   "source": [
    "print(arrayCount9([1, 2, 9]))\n",
    "print(arrayCount9([1, 9, 9]))\n",
    "print(arrayCount9([1, 9, 9, 3, 9]))"
   ]
  },
  {
   "cell_type": "code",
   "execution_count": 17,
   "metadata": {},
   "outputs": [],
   "source": [
    "#arrayFront9\n",
    "def arrayFront9(n):\n",
    "    n4 = n[:4]\n",
    "    return 9 in n4"
   ]
  },
  {
   "cell_type": "code",
   "execution_count": 18,
   "metadata": {},
   "outputs": [
    {
     "name": "stdout",
     "output_type": "stream",
     "text": [
      "True\n",
      "False\n",
      "False\n"
     ]
    }
   ],
   "source": [
    "print(arrayFront9([1, 2, 9, 3, 4]))\n",
    "print(arrayFront9([1, 2, 3, 4, 9]))\n",
    "print(arrayFront9([1, 2, 3, 4, 5]))"
   ]
  },
  {
   "cell_type": "code",
   "execution_count": 39,
   "metadata": {},
   "outputs": [],
   "source": [
    "#consulted python example\n",
    "#array123\n",
    "def array123(n):\n",
    "    #return 1,2,3 in n\n",
    "    for i in range(len(n)-2):\n",
    "        if n[i] == 1 and n[i+1] == 2 and n[i+2] == 3:\n",
    "            return True\n",
    "    return False"
   ]
  },
  {
   "cell_type": "code",
   "execution_count": 40,
   "metadata": {},
   "outputs": [
    {
     "name": "stdout",
     "output_type": "stream",
     "text": [
      "True\n",
      "False\n",
      "True\n"
     ]
    }
   ],
   "source": [
    "print(array123([1, 1, 2, 3, 1]))\n",
    "print(array123([1, 1, 2, 4, 1]))\n",
    "print(array123([1, 1, 2, 1, 2, 3]))"
   ]
  },
  {
   "cell_type": "code",
   "execution_count": 70,
   "metadata": {},
   "outputs": [],
   "source": [
    "#consulted python example\n",
    "#stringMatch\n",
    "def stringMatch(a, b):\n",
    "    shorter = min(len(a), len(b))\n",
    "    count = 0\n",
    "    \n",
    "    for i in range(shorter - 1):\n",
    "        asub = a[i:i+2]\n",
    "        bsub = b[i:i+2]\n",
    "        if asub == bsub:\n",
    "            count += 1\n",
    "    return count"
   ]
  },
  {
   "cell_type": "code",
   "execution_count": 71,
   "metadata": {},
   "outputs": [
    {
     "name": "stdout",
     "output_type": "stream",
     "text": [
      "3\n",
      "2\n",
      "0\n"
     ]
    }
   ],
   "source": [
    "print(stringMatch(\"xxcaazz\", \"xxbaaz\"))\n",
    "print(stringMatch(\"abc\", \"abc\"))\n",
    "print(stringMatch(\"abc\", \"axc\"))"
   ]
  },
  {
   "cell_type": "code",
   "execution_count": 82,
   "metadata": {},
   "outputs": [],
   "source": [
    "#stringX\n",
    "def stringX(string):\n",
    "    return string[0] + string[1:-1].replace(\"x\", \"\") + string[-1]"
   ]
  },
  {
   "cell_type": "code",
   "execution_count": 83,
   "metadata": {},
   "outputs": [
    {
     "name": "stdout",
     "output_type": "stream",
     "text": [
      "xHix\n",
      "abcd\n",
      "xabcdx\n"
     ]
    }
   ],
   "source": [
    "print(stringX(\"xxHxix\"))\n",
    "print(stringX(\"abxxxcd\"))\n",
    "print(stringX(\"xabxxxcdx\")) "
   ]
  },
  {
   "cell_type": "code",
   "execution_count": 218,
   "metadata": {},
   "outputs": [],
   "source": [
    "#altPairs\n",
    "def altPairs(string):\n",
    "    new = \"\"\n",
    "    for i in range(len(string)):\n",
    "        if i % 4 == 0:\n",
    "            sub = string[i:i+2]\n",
    "            new += sub\n",
    "    return new"
   ]
  },
  {
   "cell_type": "code",
   "execution_count": 220,
   "metadata": {},
   "outputs": [
    {
     "name": "stdout",
     "output_type": "stream",
     "text": [
      "kien\n",
      "Chole\n",
      "Congrr\n",
      "Thiseaylgsinottowhheheovodorprer\n"
     ]
    }
   ],
   "source": [
    "print(altPairs(\"kitten\"))\n",
    "print(altPairs(\"Chocolate\"))\n",
    "print(altPairs(\"CodingHorror\"))\n",
    "print(altPairs(\"Thisisareallylongstringtotestoutwhethertheabovecodeworksproperly\"))"
   ]
  },
  {
   "cell_type": "code",
   "execution_count": 230,
   "metadata": {},
   "outputs": [],
   "source": [
    "#stringYak\n",
    "def stringYak(string):\n",
    "    for i in range(len(string)):\n",
    "        if string[i] == \"y\" and string[i+2] == \"k\":\n",
    "            yakspot = string[i:i+3]\n",
    "            new = string.replace(yakspot, \"\")\n",
    "            return new"
   ]
  },
  {
   "cell_type": "code",
   "execution_count": 231,
   "metadata": {},
   "outputs": [
    {
     "name": "stdout",
     "output_type": "stream",
     "text": [
      "pak\n",
      "pak\n",
      "123ya\n"
     ]
    }
   ],
   "source": [
    "print(stringYak(\"yakpak\"))\n",
    "print(stringYak(\"pakyak\"))\n",
    "print(stringYak(\"yak123ya\"))"
   ]
  },
  {
   "cell_type": "code",
   "execution_count": 283,
   "metadata": {},
   "outputs": [],
   "source": [
    "#array667\n",
    "def array667(n):\n",
    "    count = 0\n",
    "    for i in range(len(n) -1):\n",
    "        if n[i] == 6 and n[i+1] == 6 or n[i+1] == 7:\n",
    "            count += 1\n",
    "    return count"
   ]
  },
  {
   "cell_type": "code",
   "execution_count": 284,
   "metadata": {},
   "outputs": [
    {
     "name": "stdout",
     "output_type": "stream",
     "text": [
      "1\n",
      "1\n",
      "1\n"
     ]
    }
   ],
   "source": [
    "print(array667([6, 6, 2]))\n",
    "print(array667([6, 6, 2, 6]))\n",
    "print(array667([6, 7, 2, 6]))"
   ]
  },
  {
   "cell_type": "code",
   "execution_count": 289,
   "metadata": {},
   "outputs": [],
   "source": [
    "#noTriples\n",
    "def noTriples(n):\n",
    "    for i in range(len(n) -2):\n",
    "        if n[i] == n[i+1] == n[i+2]:\n",
    "            return False\n",
    "    return True"
   ]
  },
  {
   "cell_type": "code",
   "execution_count": 290,
   "metadata": {},
   "outputs": [
    {
     "name": "stdout",
     "output_type": "stream",
     "text": [
      "True\n",
      "False\n",
      "False\n"
     ]
    }
   ],
   "source": [
    "print(noTriples([1, 1, 2, 2, 1]))\n",
    "print(noTriples([1, 1, 2, 2, 2, 1]))\n",
    "print(noTriples([1, 1, 1, 2, 2, 2, 1]))"
   ]
  },
  {
   "cell_type": "code",
   "execution_count": 303,
   "metadata": {},
   "outputs": [],
   "source": [
    "#has271\n",
    "def has271(n):\n",
    "    for i in range(len(n)-2):\n",
    "        if n[i+1] == n[i] + 5 and n[i] - 2 <= n[i+2] <= n[i] + 2:\n",
    "            return True\n",
    "    return False"
   ]
  },
  {
   "cell_type": "code",
   "execution_count": 304,
   "metadata": {},
   "outputs": [
    {
     "name": "stdout",
     "output_type": "stream",
     "text": [
      "True\n",
      "False\n",
      "True\n"
     ]
    }
   ],
   "source": [
    "print(has271([1, 2, 7, 1]))\n",
    "print(has271([1, 2, 8, 1]))\n",
    "print(has271([2, 7, 1]))"
   ]
  }
 ],
 "metadata": {
  "kernelspec": {
   "display_name": "Python 3",
   "language": "python",
   "name": "python3"
  },
  "language_info": {
   "codemirror_mode": {
    "name": "ipython",
    "version": 3
   },
   "file_extension": ".py",
   "mimetype": "text/x-python",
   "name": "python",
   "nbconvert_exporter": "python",
   "pygments_lexer": "ipython3",
   "version": "3.7.6"
  }
 },
 "nbformat": 4,
 "nbformat_minor": 4
}
