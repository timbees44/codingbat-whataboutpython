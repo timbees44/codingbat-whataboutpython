{
 "cells": [
  {
   "cell_type": "markdown",
   "metadata": {},
   "source": [
    "## CodingBat Warmup-2: All Java Problems in Python"
   ]
  },
  {
   "cell_type": "code",
   "execution_count": 5,
   "metadata": {},
   "outputs": [],
   "source": [
    "#stringTimes\n",
    "def stringTimes(string, n):\n",
    "    return string * n"
   ]
  },
  {
   "cell_type": "code",
   "execution_count": 7,
   "metadata": {},
   "outputs": [
    {
     "name": "stdout",
     "output_type": "stream",
     "text": [
      "hihi\n",
      "hihihihi\n"
     ]
    }
   ],
   "source": [
    "#Test code here\n",
    "print(stringTimes(\"hi\", 2))\n",
    "print(stringTimes(\"hi\", 4))"
   ]
  },
  {
   "cell_type": "code",
   "execution_count": 8,
   "metadata": {},
   "outputs": [],
   "source": [
    "#frontTimes\n",
    "def frontTimes(string, n):\n",
    "    return string[:3] * n"
   ]
  },
  {
   "cell_type": "code",
   "execution_count": 9,
   "metadata": {},
   "outputs": [
    {
     "name": "stdout",
     "output_type": "stream",
     "text": [
      "ChoCho\n",
      "ChoChoCho\n"
     ]
    }
   ],
   "source": [
    "print(frontTimes(\"Chocolate\", 2))\n",
    "print(frontTimes(\"Chocolate\", 3))"
   ]
  },
  {
   "cell_type": "code",
   "execution_count": 81,
   "metadata": {},
   "outputs": [],
   "source": [
    "#countXX\n",
    "def countXX(string):\n",
    "    count = 0\n",
    "    for i in string:\n",
    "        if i == \"x\":\n",
    "            count += 1\n",
    "            pass\n",
    "    print(count - 1)"
   ]
  },
  {
   "cell_type": "code",
   "execution_count": 82,
   "metadata": {},
   "outputs": [
    {
     "name": "stdout",
     "output_type": "stream",
     "text": [
      "1\n",
      "None\n",
      "2\n",
      "None\n",
      "3\n",
      "None\n"
     ]
    }
   ],
   "source": [
    "print(countXX(\"abcxx\"))\n",
    "print(countXX(\"xxx\"))\n",
    "print(countXX(\"xxxx\"))"
   ]
  },
  {
   "cell_type": "code",
   "execution_count": 102,
   "metadata": {},
   "outputs": [],
   "source": [
    "#doubleX\n",
    "def doubleX(string):\n",
    "    for ind, i in enumerate(string[:-1]):\n",
    "        if i == string[ind+1]:\n",
    "            return True"
   ]
  },
  {
   "cell_type": "code",
   "execution_count": 103,
   "metadata": {},
   "outputs": [
    {
     "name": "stdout",
     "output_type": "stream",
     "text": [
      "True\n",
      "None\n"
     ]
    }
   ],
   "source": [
    "print(doubleX(\"axxbb\"))\n",
    "print(doubleX(\"axaxaxa\"))"
   ]
  },
  {
   "cell_type": "code",
   "execution_count": null,
   "metadata": {},
   "outputs": [],
   "source": []
  },
  {
   "cell_type": "code",
   "execution_count": null,
   "metadata": {},
   "outputs": [],
   "source": []
  }
 ],
 "metadata": {
  "kernelspec": {
   "display_name": "Python 3",
   "language": "python",
   "name": "python3"
  },
  "language_info": {
   "codemirror_mode": {
    "name": "ipython",
    "version": 3
   },
   "file_extension": ".py",
   "mimetype": "text/x-python",
   "name": "python",
   "nbconvert_exporter": "python",
   "pygments_lexer": "ipython3",
   "version": "3.7.6"
  }
 },
 "nbformat": 4,
 "nbformat_minor": 4
}
